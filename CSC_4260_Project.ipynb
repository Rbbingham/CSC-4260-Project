{
 "cells": [
  {
   "cell_type": "markdown",
   "metadata": {
    "id": "wtKxof51N707"
   },
   "source": [
    "<!-- PROJECT DESCRIPTION -->\n",
    "# CSC 4260 Spring 2024 Term Project\n",
    "This is the Google Colab notebook for the Spring 2024 Term Project for Advanced Data Science and Applications. The dataset for this project can be found here: [Google Smartphone Decimeter Challenge 2023](https://www.kaggle.com/competitions/smartphone-decimeter-2023)\n",
    "\n",
    "<u>Google's Problem Description:</u>\n",
    "\n",
    "“Precise smartphone positioning services enable many of the navigation features that we use today. Yet, current mobile phones only offer 3-5 meters of positioning accuracy. Lane-specific directions aren't always possible, which can lead to missed exits or inaccurate arrival times.  \n",
    "\n",
    "Machine learning models could improve the accuracy of Global Navigation Satellite System (GNSS) data, enabling billions of Android users to have a more fine-tuned positioning experience.\n",
    "\n",
    "Google's Precise Location Team, part of Android, hosted the Smartphone Decimeter Challenge in 2021 and 2022. This year, this competition is again dedicated to finding innovative research in smartphone GNSS positioning accuracy to enhance people's ability to navigate the world around them.  \n",
    "\n",
    "Your work will help improve positioning accuracy to sub-meter level, or even centimeters. As a result, Android users could gain better lane-level navigation or carpool estimates during congestion. Beyond the car, better location data could enable augmented reality walking tours, precise agriculture via phones, and more” (Chow et al., 2023).\n",
    "\n",
    "<u>Our Team's Problem Description:</u>\n",
    "\n",
    "In a modern world dominated by smartphones, people have become heavily reliant on the navigation system and applications on their smart devices for daily navigation. However, current smartphones only provide limited positioning accuracy. Moreover, lane-specific directions are not always possible. This can lead to inaccurate arrival times or even missed exits in real-time driving scenarios. To tackle accuracy issues, machine learning models can be trained to improve the accuracy of the Global Navigation Satellite System (GNSS) data, allowing billions of people to have a smoother driving experience. Google has challenged our team to find innovative research in smartphone GNSS positioning accuracy to enhance people's ability to navigate the world around them. Our work will help improve the accuracy to sub-meter level or even centimeters. As a result, billions of people can gain better lane navigation or carpool estimates during heavy traffic hours. Beyond everyday usage within the car, better location data can find applications in various fields such as tourism, agriculture, and others.  \n",
    "\n",
    "<!-- TEAM MEMBERs -->\n",
    "## Team Members\n",
    "<table style=\"width:100%\">\n",
    "    <thead>\n",
    "        <tr>\n",
    "            <th width=\"25%\">Cade Kennedy</th>\n",
    "            <th width=\"25%\">Harrison Peloquin</th>\n",
    "            <th width=\"25%\">Kase Johnson</th>\n",
    "            <th width=\"25%\">Robert Bingham</th>\n",
    "        </tr>\n",
    "    </thead>\n",
    "    <tbody>\n",
    "        <tr>\n",
    "            <td width=\"25%\">\n",
    "                <a href=\"https://www.linkedin.com/in/cade-kennedy-107ab7249/\">\n",
    "                    <img src=\"https://img.shields.io/badge/LinkedIn-0077B5?style=for-the-badge&logo=linkedin&logoColor=white\"/>\n",
    "                </a>\n",
    "            </td>\n",
    "             <td width=\"25%\">\n",
    "                <a href=\"https://www.linkedin.com/in/harrison-peloquin-2b080b24a/\">\n",
    "                    <img src=\"https://img.shields.io/badge/LinkedIn-0077B5?style=for-the-badge&logo=linkedin&logoColor=white\"/>\n",
    "                </a>\n",
    "            </td>\n",
    "            <td width=\"25%\">\n",
    "                <!-- UPDATE TO YOUR LINKEDIN -->\n",
    "                <a href=\"https://www.linkedin.com/in/kase-johnson-02a974205/\">\n",
    "                    <img src=\"https://img.shields.io/badge/LinkedIn-0077B5?style=for-the-badge&logo=linkedin&logoColor=white\"/>\n",
    "                </a>\n",
    "            </td>\n",
    "            <td width=\"25%\">\n",
    "                <a href=\"https://www.linkedin.com/in/robert-bingham/\">\n",
    "                    <img src=\"https://img.shields.io/badge/LinkedIn-0077B5?style=for-the-badge&logo=linkedin&logoColor=white\"/>\n",
    "                </a>\n",
    "            </td>\n",
    "        </tr>\n",
    "    </tbody>\n",
    "</table>\n",
    "\n",
    "## Works Cited\n",
    "Ashley Chow, Dave Orendorff, Michael Fu, Mohammed Khider, Sohier Dane, Vivek Gulati. (2023). Google Smartphone Decimeter Challenge 2023. Kaggle. https://kaggle.com/competitions/smartphone-decimeter-2023"
   ]
  },
  {
   "cell_type": "code",
   "execution_count": 1,
   "metadata": {
    "id": "wg2vbfdyFui6"
   },
   "outputs": [],
   "source": [
    "# PUT ALL IMPORTS HERE\n",
    "import glob\n",
    "import pandas as pd\n",
    "import numpy as np\n",
    "import seaborn as sns\n",
    "import matplotlib.pyplot as plt\n",
    "import plotly.express as px\n",
    "import pyproj"
   ]
  },
  {
   "cell_type": "markdown",
   "metadata": {
    "id": "p59KaZPDQ1Y_"
   },
   "source": [
    "Here we use a regex pattern to search through all the directories and glob all the files with `device_gnss.csv`. For each file found, we read the csv and append the data to a list. Once we have gone through all the files, we can concatenate all the data leaving us with the entire dataset."
   ]
  },
  {
   "cell_type": "code",
   "execution_count": 2,
   "metadata": {
    "id": "TZq4QwHkT4M5"
   },
   "outputs": [
    {
     "name": "stderr",
     "output_type": "stream",
     "text": [
      "/tmp/ipykernel_25089/271390958.py:5: DtypeWarning: Columns (21) have mixed types. Specify dtype option on import or set low_memory=False.\n",
      "  df_train.append(pd.read_csv(file))\n",
      "/tmp/ipykernel_25089/271390958.py:5: DtypeWarning: Columns (21) have mixed types. Specify dtype option on import or set low_memory=False.\n",
      "  df_train.append(pd.read_csv(file))\n",
      "/tmp/ipykernel_25089/271390958.py:5: DtypeWarning: Columns (21) have mixed types. Specify dtype option on import or set low_memory=False.\n",
      "  df_train.append(pd.read_csv(file))\n",
      "/tmp/ipykernel_25089/271390958.py:5: DtypeWarning: Columns (21) have mixed types. Specify dtype option on import or set low_memory=False.\n",
      "  df_train.append(pd.read_csv(file))\n",
      "/tmp/ipykernel_25089/271390958.py:5: DtypeWarning: Columns (21) have mixed types. Specify dtype option on import or set low_memory=False.\n",
      "  df_train.append(pd.read_csv(file))\n",
      "/tmp/ipykernel_25089/271390958.py:5: DtypeWarning: Columns (21) have mixed types. Specify dtype option on import or set low_memory=False.\n",
      "  df_train.append(pd.read_csv(file))\n",
      "/tmp/ipykernel_25089/271390958.py:5: DtypeWarning: Columns (21) have mixed types. Specify dtype option on import or set low_memory=False.\n",
      "  df_train.append(pd.read_csv(file))\n",
      "/tmp/ipykernel_25089/271390958.py:5: DtypeWarning: Columns (21) have mixed types. Specify dtype option on import or set low_memory=False.\n",
      "  df_train.append(pd.read_csv(file))\n",
      "/tmp/ipykernel_25089/271390958.py:5: DtypeWarning: Columns (21) have mixed types. Specify dtype option on import or set low_memory=False.\n",
      "  df_train.append(pd.read_csv(file))\n",
      "/tmp/ipykernel_25089/271390958.py:5: DtypeWarning: Columns (21) have mixed types. Specify dtype option on import or set low_memory=False.\n",
      "  df_train.append(pd.read_csv(file))\n",
      "/tmp/ipykernel_25089/271390958.py:5: DtypeWarning: Columns (21) have mixed types. Specify dtype option on import or set low_memory=False.\n",
      "  df_train.append(pd.read_csv(file))\n",
      "/tmp/ipykernel_25089/271390958.py:5: DtypeWarning: Columns (21) have mixed types. Specify dtype option on import or set low_memory=False.\n",
      "  df_train.append(pd.read_csv(file))\n",
      "/tmp/ipykernel_25089/271390958.py:5: DtypeWarning: Columns (21) have mixed types. Specify dtype option on import or set low_memory=False.\n",
      "  df_train.append(pd.read_csv(file))\n",
      "/tmp/ipykernel_25089/271390958.py:5: DtypeWarning: Columns (21) have mixed types. Specify dtype option on import or set low_memory=False.\n",
      "  df_train.append(pd.read_csv(file))\n"
     ]
    },
    {
     "data": {
      "text/html": [
       "<div>\n",
       "<style scoped>\n",
       "    .dataframe tbody tr th:only-of-type {\n",
       "        vertical-align: middle;\n",
       "    }\n",
       "\n",
       "    .dataframe tbody tr th {\n",
       "        vertical-align: top;\n",
       "    }\n",
       "\n",
       "    .dataframe thead th {\n",
       "        text-align: right;\n",
       "    }\n",
       "</style>\n",
       "<table border=\"1\" class=\"dataframe\">\n",
       "  <thead>\n",
       "    <tr style=\"text-align: right;\">\n",
       "      <th></th>\n",
       "      <th>MessageType</th>\n",
       "      <th>utcTimeMillis</th>\n",
       "      <th>TimeNanos</th>\n",
       "      <th>LeapSecond</th>\n",
       "      <th>TimeUncertaintyNanos</th>\n",
       "      <th>FullBiasNanos</th>\n",
       "      <th>BiasNanos</th>\n",
       "      <th>BiasUncertaintyNanos</th>\n",
       "      <th>DriftNanosPerSecond</th>\n",
       "      <th>DriftUncertaintyNanosPerSecond</th>\n",
       "      <th>...</th>\n",
       "      <th>SvVelocityYEcefMetersPerSecond</th>\n",
       "      <th>SvVelocityZEcefMetersPerSecond</th>\n",
       "      <th>SvClockBiasMeters</th>\n",
       "      <th>SvClockDriftMetersPerSecond</th>\n",
       "      <th>IsrbMeters</th>\n",
       "      <th>IonosphericDelayMeters</th>\n",
       "      <th>TroposphericDelayMeters</th>\n",
       "      <th>WlsPositionXEcefMeters</th>\n",
       "      <th>WlsPositionYEcefMeters</th>\n",
       "      <th>WlsPositionZEcefMeters</th>\n",
       "    </tr>\n",
       "  </thead>\n",
       "  <tbody>\n",
       "    <tr>\n",
       "      <th>0</th>\n",
       "      <td>Raw</td>\n",
       "      <td>1693947542432</td>\n",
       "      <td>290185000000</td>\n",
       "      <td>18.0</td>\n",
       "      <td>NaN</td>\n",
       "      <td>-1377982470247544629</td>\n",
       "      <td>0.826887</td>\n",
       "      <td>26.340462</td>\n",
       "      <td>3.145563</td>\n",
       "      <td>9.569438</td>\n",
       "      <td>...</td>\n",
       "      <td>-2100.204750</td>\n",
       "      <td>-1745.515708</td>\n",
       "      <td>-167082.196389</td>\n",
       "      <td>0.002770</td>\n",
       "      <td>0.0</td>\n",
       "      <td>5.824839</td>\n",
       "      <td>2.972454</td>\n",
       "      <td>-2.678289e+06</td>\n",
       "      <td>-4.311251e+06</td>\n",
       "      <td>3.849763e+06</td>\n",
       "    </tr>\n",
       "    <tr>\n",
       "      <th>1</th>\n",
       "      <td>Raw</td>\n",
       "      <td>1693947542432</td>\n",
       "      <td>290185000000</td>\n",
       "      <td>18.0</td>\n",
       "      <td>NaN</td>\n",
       "      <td>-1377982470247544629</td>\n",
       "      <td>0.826887</td>\n",
       "      <td>26.340462</td>\n",
       "      <td>3.145563</td>\n",
       "      <td>9.569438</td>\n",
       "      <td>...</td>\n",
       "      <td>-1520.621173</td>\n",
       "      <td>2432.919573</td>\n",
       "      <td>-45220.428593</td>\n",
       "      <td>0.005520</td>\n",
       "      <td>0.0</td>\n",
       "      <td>12.384022</td>\n",
       "      <td>11.845360</td>\n",
       "      <td>-2.678289e+06</td>\n",
       "      <td>-4.311251e+06</td>\n",
       "      <td>3.849763e+06</td>\n",
       "    </tr>\n",
       "    <tr>\n",
       "      <th>2</th>\n",
       "      <td>Raw</td>\n",
       "      <td>1693947542432</td>\n",
       "      <td>290185000000</td>\n",
       "      <td>18.0</td>\n",
       "      <td>NaN</td>\n",
       "      <td>-1377982470247544629</td>\n",
       "      <td>0.826887</td>\n",
       "      <td>26.340462</td>\n",
       "      <td>3.145563</td>\n",
       "      <td>9.569438</td>\n",
       "      <td>...</td>\n",
       "      <td>-1030.559521</td>\n",
       "      <td>-2694.455151</td>\n",
       "      <td>-15644.206004</td>\n",
       "      <td>-0.000696</td>\n",
       "      <td>0.0</td>\n",
       "      <td>8.264991</td>\n",
       "      <td>4.463468</td>\n",
       "      <td>-2.678289e+06</td>\n",
       "      <td>-4.311251e+06</td>\n",
       "      <td>3.849763e+06</td>\n",
       "    </tr>\n",
       "    <tr>\n",
       "      <th>3</th>\n",
       "      <td>Raw</td>\n",
       "      <td>1693947542432</td>\n",
       "      <td>290185000000</td>\n",
       "      <td>18.0</td>\n",
       "      <td>NaN</td>\n",
       "      <td>-1377982470247544629</td>\n",
       "      <td>0.826887</td>\n",
       "      <td>26.340462</td>\n",
       "      <td>3.145563</td>\n",
       "      <td>9.569438</td>\n",
       "      <td>...</td>\n",
       "      <td>-1878.412260</td>\n",
       "      <td>-2020.986431</td>\n",
       "      <td>44812.530481</td>\n",
       "      <td>0.002188</td>\n",
       "      <td>0.0</td>\n",
       "      <td>5.538755</td>\n",
       "      <td>2.785802</td>\n",
       "      <td>-2.678289e+06</td>\n",
       "      <td>-4.311251e+06</td>\n",
       "      <td>3.849763e+06</td>\n",
       "    </tr>\n",
       "    <tr>\n",
       "      <th>4</th>\n",
       "      <td>Raw</td>\n",
       "      <td>1693947542432</td>\n",
       "      <td>290185000000</td>\n",
       "      <td>18.0</td>\n",
       "      <td>NaN</td>\n",
       "      <td>-1377982470247544629</td>\n",
       "      <td>0.826887</td>\n",
       "      <td>26.340462</td>\n",
       "      <td>3.145563</td>\n",
       "      <td>9.569438</td>\n",
       "      <td>...</td>\n",
       "      <td>742.725535</td>\n",
       "      <td>3006.276370</td>\n",
       "      <td>-1782.227851</td>\n",
       "      <td>-0.001418</td>\n",
       "      <td>0.0</td>\n",
       "      <td>6.384073</td>\n",
       "      <td>3.153811</td>\n",
       "      <td>-2.678289e+06</td>\n",
       "      <td>-4.311251e+06</td>\n",
       "      <td>3.849763e+06</td>\n",
       "    </tr>\n",
       "  </tbody>\n",
       "</table>\n",
       "<p>5 rows × 58 columns</p>\n",
       "</div>"
      ],
      "text/plain": [
       "  MessageType  utcTimeMillis     TimeNanos  LeapSecond  TimeUncertaintyNanos  \\\n",
       "0         Raw  1693947542432  290185000000        18.0                   NaN   \n",
       "1         Raw  1693947542432  290185000000        18.0                   NaN   \n",
       "2         Raw  1693947542432  290185000000        18.0                   NaN   \n",
       "3         Raw  1693947542432  290185000000        18.0                   NaN   \n",
       "4         Raw  1693947542432  290185000000        18.0                   NaN   \n",
       "\n",
       "         FullBiasNanos  BiasNanos  BiasUncertaintyNanos  DriftNanosPerSecond  \\\n",
       "0 -1377982470247544629   0.826887             26.340462             3.145563   \n",
       "1 -1377982470247544629   0.826887             26.340462             3.145563   \n",
       "2 -1377982470247544629   0.826887             26.340462             3.145563   \n",
       "3 -1377982470247544629   0.826887             26.340462             3.145563   \n",
       "4 -1377982470247544629   0.826887             26.340462             3.145563   \n",
       "\n",
       "   DriftUncertaintyNanosPerSecond  ...  SvVelocityYEcefMetersPerSecond  \\\n",
       "0                        9.569438  ...                    -2100.204750   \n",
       "1                        9.569438  ...                    -1520.621173   \n",
       "2                        9.569438  ...                    -1030.559521   \n",
       "3                        9.569438  ...                    -1878.412260   \n",
       "4                        9.569438  ...                      742.725535   \n",
       "\n",
       "   SvVelocityZEcefMetersPerSecond  SvClockBiasMeters  \\\n",
       "0                    -1745.515708     -167082.196389   \n",
       "1                     2432.919573      -45220.428593   \n",
       "2                    -2694.455151      -15644.206004   \n",
       "3                    -2020.986431       44812.530481   \n",
       "4                     3006.276370       -1782.227851   \n",
       "\n",
       "   SvClockDriftMetersPerSecond  IsrbMeters  IonosphericDelayMeters  \\\n",
       "0                     0.002770         0.0                5.824839   \n",
       "1                     0.005520         0.0               12.384022   \n",
       "2                    -0.000696         0.0                8.264991   \n",
       "3                     0.002188         0.0                5.538755   \n",
       "4                    -0.001418         0.0                6.384073   \n",
       "\n",
       "   TroposphericDelayMeters  WlsPositionXEcefMeters  WlsPositionYEcefMeters  \\\n",
       "0                 2.972454           -2.678289e+06           -4.311251e+06   \n",
       "1                11.845360           -2.678289e+06           -4.311251e+06   \n",
       "2                 4.463468           -2.678289e+06           -4.311251e+06   \n",
       "3                 2.785802           -2.678289e+06           -4.311251e+06   \n",
       "4                 3.153811           -2.678289e+06           -4.311251e+06   \n",
       "\n",
       "   WlsPositionZEcefMeters  \n",
       "0            3.849763e+06  \n",
       "1            3.849763e+06  \n",
       "2            3.849763e+06  \n",
       "3            3.849763e+06  \n",
       "4            3.849763e+06  \n",
       "\n",
       "[5 rows x 58 columns]"
      ]
     },
     "execution_count": 2,
     "metadata": {},
     "output_type": "execute_result"
    }
   ],
   "source": [
    "filenames = glob.glob('./sdc2023/train/2023-*/*/device_gnss.csv')\n",
    "df_train = []\n",
    "\n",
    "for file in filenames:\n",
    "  df_train.append(pd.read_csv(file, dtype={))\n",
    "\n",
    "df_train = pd.concat(df_train, ignore_index=True)\n",
    "df_train.head()"
   ]
  },
  {
   "cell_type": "markdown",
   "metadata": {
    "id": "fJ6CLpm-Q2RD"
   },
   "source": []
  },
  {
   "cell_type": "code",
   "execution_count": 3,
   "metadata": {
    "id": "p7YjJovvIioM"
   },
   "outputs": [
    {
     "data": {
      "text/plain": [
       "Index(['MessageType', 'utcTimeMillis', 'TimeNanos', 'LeapSecond',\n",
       "       'TimeUncertaintyNanos', 'FullBiasNanos', 'BiasNanos',\n",
       "       'BiasUncertaintyNanos', 'DriftNanosPerSecond',\n",
       "       'DriftUncertaintyNanosPerSecond', 'HardwareClockDiscontinuityCount',\n",
       "       'Svid', 'TimeOffsetNanos', 'State', 'ReceivedSvTimeNanos',\n",
       "       'ReceivedSvTimeUncertaintyNanos', 'Cn0DbHz',\n",
       "       'PseudorangeRateMetersPerSecond',\n",
       "       'PseudorangeRateUncertaintyMetersPerSecond',\n",
       "       'AccumulatedDeltaRangeState', 'AccumulatedDeltaRangeMeters',\n",
       "       'AccumulatedDeltaRangeUncertaintyMeters', 'CarrierFrequencyHz',\n",
       "       'CarrierCycles', 'CarrierPhase', 'CarrierPhaseUncertainty',\n",
       "       'MultipathIndicator', 'SnrInDb', 'ConstellationType', 'AgcDb',\n",
       "       'BasebandCn0DbHz', 'FullInterSignalBiasNanos',\n",
       "       'FullInterSignalBiasUncertaintyNanos', 'SatelliteInterSignalBiasNanos',\n",
       "       'SatelliteInterSignalBiasUncertaintyNanos', 'CodeType',\n",
       "       'ChipsetElapsedRealtimeNanos', 'ArrivalTimeNanosSinceGpsEpoch',\n",
       "       'RawPseudorangeMeters', 'RawPseudorangeUncertaintyMeters', 'SignalType',\n",
       "       'ReceivedSvTimeNanosSinceGpsEpoch', 'SvPositionXEcefMeters',\n",
       "       'SvPositionYEcefMeters', 'SvPositionZEcefMeters', 'SvElevationDegrees',\n",
       "       'SvAzimuthDegrees', 'SvVelocityXEcefMetersPerSecond',\n",
       "       'SvVelocityYEcefMetersPerSecond', 'SvVelocityZEcefMetersPerSecond',\n",
       "       'SvClockBiasMeters', 'SvClockDriftMetersPerSecond', 'IsrbMeters',\n",
       "       'IonosphericDelayMeters', 'TroposphericDelayMeters',\n",
       "       'WlsPositionXEcefMeters', 'WlsPositionYEcefMeters',\n",
       "       'WlsPositionZEcefMeters'],\n",
       "      dtype='object')"
      ]
     },
     "execution_count": 3,
     "metadata": {},
     "output_type": "execute_result"
    }
   ],
   "source": [
    "df_train.columns"
   ]
  },
  {
   "cell_type": "markdown",
   "metadata": {
    "id": "BOq8gvu7Q24O"
   },
   "source": []
  },
  {
   "cell_type": "code",
   "execution_count": 1,
   "metadata": {
    "id": "YbOVJ5eOSfz4"
   },
   "outputs": [
    {
     "ename": "NameError",
     "evalue": "name 'df_train' is not defined",
     "output_type": "error",
     "traceback": [
      "\u001b[0;31m---------------------------------------------------------------------------\u001b[0m",
      "\u001b[0;31mNameError\u001b[0m                                 Traceback (most recent call last)",
      "Cell \u001b[0;32mIn[1], line 1\u001b[0m\n\u001b[0;32m----> 1\u001b[0m \u001b[43mdf_train\u001b[49m\u001b[38;5;241m.\u001b[39mdescribe()\n",
      "\u001b[0;31mNameError\u001b[0m: name 'df_train' is not defined"
     ]
    }
   ],
   "source": [
    "df_train.describe()"
   ]
  },
  {
   "cell_type": "markdown",
   "metadata": {
    "id": "5LsiReP6Q3Kw"
   },
   "source": []
  },
  {
   "cell_type": "code",
   "execution_count": null,
   "metadata": {
    "id": "8oFGGNd3Josr"
   },
   "outputs": [],
   "source": [
    "df_train[['SvPositionXEcefMeters', 'SvPositionYEcefMeters', 'SvPositionZEcefMeters']].describe()"
   ]
  },
  {
   "cell_type": "markdown",
   "metadata": {
    "id": "Jmneal6_Q3sJ"
   },
   "source": []
  },
  {
   "cell_type": "code",
   "execution_count": null,
   "metadata": {
    "id": "F58kMdh1AlFz"
   },
   "outputs": [],
   "source": [
    "df_train.shape"
   ]
  },
  {
   "cell_type": "markdown",
   "metadata": {
    "id": "FhzB-ug4Q4Dp"
   },
   "source": []
  },
  {
   "cell_type": "code",
   "execution_count": null,
   "metadata": {
    "id": "DLjmm2dLESpq"
   },
   "outputs": [],
   "source": [
    "df_train.info()"
   ]
  },
  {
   "cell_type": "markdown",
   "metadata": {
    "id": "OX0GJZPvQ5LJ"
   },
   "source": []
  },
  {
   "cell_type": "code",
   "execution_count": null,
   "metadata": {
    "id": "y__h7UIdEfZl"
   },
   "outputs": [],
   "source": [
    "# check for how many nulls in dataset\n",
    "df_train.isnull().sum()"
   ]
  },
  {
   "cell_type": "markdown",
   "metadata": {
    "id": "TDD0ZIbQQ5mO"
   },
   "source": []
  },
  {
   "cell_type": "code",
   "execution_count": null,
   "metadata": {
    "id": "y9pxtkamFBM1"
   },
   "outputs": [],
   "source": [
    "# check how many zeroes in dataset\n",
    "df_train.isin([0]).sum()"
   ]
  },
  {
   "cell_type": "markdown",
   "metadata": {
    "id": "0kETSajMQ590"
   },
   "source": []
  },
  {
   "cell_type": "code",
   "execution_count": null,
   "metadata": {
    "id": "u0agrT_mWQ1w"
   },
   "outputs": [],
   "source": [
    "df_train.plot.scatter(x='SvPositionXEcefMeters', y='SvPositionYEcefMeters')"
   ]
  },
  {
   "cell_type": "markdown",
   "metadata": {
    "id": "qNY_cXriQ6XL"
   },
   "source": [
    "The data is in a format called [ECEF](https://en.wikipedia.org/wiki/Earth-centered,_Earth-fixed_coordinate_system). We need to convert the data to latitude, longitude, and altitude.  "
   ]
  },
  {
   "cell_type": "code",
   "execution_count": null,
   "metadata": {
    "id": "fzkKlVjhGhiz"
   },
   "outputs": [],
   "source": [
    "transformer = pyproj.Transformer.from_crs(\n",
    "    {\"proj\":'geocent', \"ellps\":'WGS84', \"datum\":'WGS84'},\n",
    "    {\"proj\":'latlong', \"ellps\":'WGS84', \"datum\":'WGS84'},\n",
    "    )\n",
    "\n",
    "lon1, lat1, alt1 = transformer.transform(xx=df_train['SvPositionXEcefMeters'],\n",
    "                                         yy=df_train['SvPositionYEcefMeters'],\n",
    "                                         zz=df_train['SvPositionZEcefMeters'],\n",
    "                                         radians=False)\n",
    "\n",
    "fig = px.density_mapbox(lat=lat1, lon=lon1, z=alt1 radius=5,\n",
    "                        center=dict(lat=0, lon=180), zoom=0,\n",
    "                        mapbox_style=\"open-street-map\")\n",
    "fig.show()"
   ]
  },
  {
   "cell_type": "markdown",
   "metadata": {
    "id": "Kh2W6UHDQ6yW"
   },
   "source": []
  },
  {
   "cell_type": "code",
   "execution_count": null,
   "metadata": {
    "id": "N9Du1h798ZDB"
   },
   "outputs": [],
   "source": [
    "p7pro_sample_trail_gnss = pd.read_csv(\"/content/smartphone-decimeter-2023/sdc2023/train/2023-03-08-21-34-us-ca-mtv-u/pixel7pro/device_gnss.csv\")\n",
    "p7pro_sample_trail_gt = pd.read_csv(\"/content/smartphone-decimeter-2023/sdc2023/train/2023-03-08-21-34-us-ca-mtv-u/pixel7pro/ground_truth.csv\")\n",
    "\n",
    "p5_sample_trail_gnss = pd.read_csv(\"/content/smartphone-decimeter-2023/sdc2023/train/2023-03-08-21-34-us-ca-mtv-u/pixel5/device_gnss.csv\")\n",
    "p5_sample_trail_gt = pd.read_csv(\"/content/smartphone-decimeter-2023/sdc2023/train/2023-03-08-21-34-us-ca-mtv-u/pixel5/ground_truth.csv\")\n",
    "\n",
    "p6pro_sample_trail_gnss = pd.read_csv(\"/content/smartphone-decimeter-2023/sdc2023/train/2023-03-08-21-34-us-ca-mtv-u/pixel6pro/device_gnss.csv\")\n",
    "p6pro_sample_trail_gt = pd.read_csv(\"/content/smartphone-decimeter-2023/sdc2023/train/2023-03-08-21-34-us-ca-mtv-u/pixel6pro/ground_truth.csv\")"
   ]
  },
  {
   "cell_type": "markdown",
   "metadata": {
    "id": "pnpLC92yQ7TL"
   },
   "source": []
  },
  {
   "cell_type": "code",
   "execution_count": null,
   "metadata": {
    "id": "i543DdAx79fs"
   },
   "outputs": [],
   "source": [
    "from datetime import datetime\n",
    "\n",
    "def utc_to_human_readable(utcTime):\n",
    "    utc_datetime_str = datetime.fromtimestamp(utcTime / 1e3)\n",
    "    return datetime.strftime(utc_datetime_str, '%Y-%m-%d | %H:%M:%S')\n",
    "\n",
    "print(\"Duration of input data (s):\",\n",
    "      (p7pro_sample_trail_gnss[\"utcTimeMillis\"].max() - p7pro_sample_trail_gnss[\"utcTimeMillis\"].min()) * 1e-3)\n",
    "print(\"Starting from\", utc_to_human_readable(p7pro_sample_trail_gnss[\"utcTimeMillis\"].min()),\n",
    "      \"to\", utc_to_human_readable(p7pro_sample_trail_gnss[\"utcTimeMillis\"].max()))\n",
    "labels = p7pro_sample_trail_gt[[\"LatitudeDegrees\", \"LongitudeDegrees\", \"UnixTimeMillis\"]]\n",
    "print(\"Duration of target data (s):\",\n",
    "      (labels[\"UnixTimeMillis\"].max() - labels[\"UnixTimeMillis\"].min()) * 1e-3)\n",
    "print(\"Starting from\", utc_to_human_readable(labels[\"UnixTimeMillis\"].min()),\n",
    "      \"to\", utc_to_human_readable(labels[\"UnixTimeMillis\"].max()))\n",
    "\n",
    "print(\"Duration of input data (s):\",\n",
    "      (p5_sample_trail_gnss[\"utcTimeMillis\"].max() - p5_sample_trail_gnss[\"utcTimeMillis\"].min()) * 1e-3)\n",
    "print(\"Starting from\", utc_to_human_readable(p5_sample_trail_gnss[\"utcTimeMillis\"].min()),\n",
    "      \"to\", utc_to_human_readable(p5_sample_trail_gnss[\"utcTimeMillis\"].max()))\n",
    "labels = p5_sample_trail_gt[[\"LatitudeDegrees\", \"LongitudeDegrees\", \"UnixTimeMillis\"]]\n",
    "print(\"Duration of target data (s):\",\n",
    "      (labels[\"UnixTimeMillis\"].max() - labels[\"UnixTimeMillis\"].min()) * 1e-3)\n",
    "print(\"Starting from\", utc_to_human_readable(labels[\"UnixTimeMillis\"].min()),\n",
    "      \"to\", utc_to_human_readable(labels[\"UnixTimeMillis\"].max()))\n",
    "\n",
    "print(\"Duration of input data (s):\",\n",
    "      (p6pro_sample_trail_gnss[\"utcTimeMillis\"].max() - p6pro_sample_trail_gnss[\"utcTimeMillis\"].min()) * 1e-3)\n",
    "print(\"Starting from\", utc_to_human_readable(p6pro_sample_trail_gnss[\"utcTimeMillis\"].min()),\n",
    "      \"to\", utc_to_human_readable(p6pro_sample_trail_gnss[\"utcTimeMillis\"].max()))\n",
    "labels = p6pro_sample_trail_gt[[\"LatitudeDegrees\", \"LongitudeDegrees\", \"UnixTimeMillis\"]]\n",
    "print(\"Duration of target data (s):\",\n",
    "      (labels[\"UnixTimeMillis\"].max() - labels[\"UnixTimeMillis\"].min()) * 1e-3)\n",
    "print(\"Starting from\", utc_to_human_readable(labels[\"UnixTimeMillis\"].min()),\n",
    "      \"to\", utc_to_human_readable(labels[\"UnixTimeMillis\"].max()))\n"
   ]
  },
  {
   "cell_type": "markdown",
   "metadata": {
    "id": "gWvC36MkQ78p"
   },
   "source": []
  },
  {
   "cell_type": "code",
   "execution_count": null,
   "metadata": {
    "id": "mkmrA3OS8GKT"
   },
   "outputs": [],
   "source": [
    "import seaborn as sns\n",
    "sns.pairplot(p7pro_sample_trail_gnss[[\"SvClockDriftMetersPerSecond\", \"AccumulatedDeltaRangeMeters\",\n",
    "                                  \"IonosphericDelayMeters\", \"TroposphericDelayMeters\"]])\n",
    "\n"
   ]
  },
  {
   "cell_type": "markdown",
   "metadata": {
    "id": "rn8mDNzLQ8YD"
   },
   "source": []
  },
  {
   "cell_type": "code",
   "execution_count": null,
   "metadata": {
    "id": "-S9jk1bG_FRa"
   },
   "outputs": [],
   "source": [
    "sns.pairplot(p5_sample_trail_gnss[[\"SvClockDriftMetersPerSecond\", \"AccumulatedDeltaRangeMeters\",\n",
    "                                  \"IonosphericDelayMeters\", \"TroposphericDelayMeters\"]])"
   ]
  },
  {
   "cell_type": "markdown",
   "metadata": {
    "id": "yUrdGUCeQ8rK"
   },
   "source": []
  },
  {
   "cell_type": "code",
   "execution_count": null,
   "metadata": {
    "id": "rRGrp6cS_HLT"
   },
   "outputs": [],
   "source": [
    "sns.pairplot(p6pro_sample_trail_gnss[[\"SvClockDriftMetersPerSecond\", \"AccumulatedDeltaRangeMeters\",\n",
    "                                  \"IonosphericDelayMeters\", \"TroposphericDelayMeters\"]])"
   ]
  },
  {
   "cell_type": "code",
   "execution_count": null,
   "metadata": {
    "id": "WwbYlSVWTqEZ"
   },
   "outputs": [],
   "source": [
    "filenames_gnss = glob.glob('/content/smartphone-decimeter-2023/sdc2023/train/2023-*/*/device_gnss.csv')\n",
    "filenames_gt = glob.glob('/content/smartphone-decimeter-2023/sdc2023/train/2023-*/*/ground_truth.csv')\n",
    "df_train_gnss = []\n",
    "df_train_gt = []\n",
    "\n",
    "for file in filenames_gnss:\n",
    "  df_train.append(pd.read_csv(file))\n",
    "\n",
    "for file in filenames_gt:\n",
    "  df_train.append(pd.read_csv(file))\n",
    "\n",
    "df_train_gnss = pd.concat(df_train_gnss, ignore_index=True)\n",
    "df_train_gt = pd.concat(df_train_gt, ignore_index=True)"
   ]
  },
  {
   "cell_type": "code",
   "execution_count": null,
   "metadata": {
    "id": "S5jhkrFpUDH4"
   },
   "outputs": [],
   "source": []
  }
 ],
 "metadata": {
  "colab": {
   "provenance": []
  },
  "kernelspec": {
   "display_name": "Python 3 (ipykernel)",
   "language": "python",
   "name": "python3"
  },
  "language_info": {
   "codemirror_mode": {
    "name": "ipython",
    "version": 3
   },
   "file_extension": ".py",
   "mimetype": "text/x-python",
   "name": "python",
   "nbconvert_exporter": "python",
   "pygments_lexer": "ipython3",
   "version": "3.10.12"
  }
 },
 "nbformat": 4,
 "nbformat_minor": 4
}
