{
  "nbformat": 4,
  "nbformat_minor": 0,
  "metadata": {
    "colab": {
      "provenance": []
    },
    "kernelspec": {
      "name": "python3",
      "display_name": "Python 3"
    },
    "language_info": {
      "name": "python"
    }
  },
  "cells": [
    {
      "cell_type": "markdown",
      "source": [
        "<!-- PROJECT DESCRIPTION -->\n",
        "# CSC 4260 Spring 2024 Term Project\n",
        "This is the Google Colab notebook for the Spring 2024 Term Project for Advanced Data Science and Applications. The dataset for this project can be found here: [Google Smartphone Decimeter Challenge 2023](https://www.kaggle.com/competitions/smartphone-decimeter-2023)\n",
        "\n",
        "<u>Google's Problem Description:</u>\n",
        "\n",
        "“Precise smartphone positioning services enable many of the navigation features that we use today. Yet, current mobile phones only offer 3-5 meters of positioning accuracy. Lane-specific directions aren't always possible, which can lead to missed exits or inaccurate arrival times.  \n",
        "\n",
        "Machine learning models could improve the accuracy of Global Navigation Satellite System (GNSS) data, enabling billions of Android users to have a more fine-tuned positioning experience.\n",
        "\n",
        "Google's Precise Location Team, part of Android, hosted the Smartphone Decimeter Challenge in 2021 and 2022. This year, this competition is again dedicated to finding innovative research in smartphone GNSS positioning accuracy to enhance people's ability to navigate the world around them.  \n",
        "\n",
        "Your work will help improve positioning accuracy to sub-meter level, or even centimeters. As a result, Android users could gain better lane-level navigation or carpool estimates during congestion. Beyond the car, better location data could enable augmented reality walking tours, precise agriculture via phones, and more” (Chow et al., 2023).\n",
        "\n",
        "<u>Our Team's Problem Description:</u>\n",
        "\n",
        "In a modern world dominated by smartphones, people have become heavily reliant on the navigation system and applications on their smart devices for daily navigation. However, current smartphones only provide limited positioning accuracy. Moreover, lane-specific directions are not always possible. This can lead to inaccurate arrival times or even missed exits in real-time driving scenarios. To tackle accuracy issues, machine learning models can be trained to improve the accuracy of the Global Navigation Satellite System (GNSS) data, allowing billions of people to have a smoother driving experience. Google has challenged our team to find innovative research in smartphone GNSS positioning accuracy to enhance people's ability to navigate the world around them. Our work will help improve the accuracy to sub-meter level or even centimeters. As a result, billions of people can gain better lane navigation or carpool estimates during heavy traffic hours. Beyond everyday usage within the car, better location data can find applications in various fields such as tourism, agriculture, and others.  \n",
        "\n",
        "<!-- TEAM MEMBERs -->\n",
        "## Team Members\n",
        "<table style=\"width:100%\">\n",
        "    <thead>\n",
        "        <tr>\n",
        "            <th width=\"25%\">Cade Kennedy</th>\n",
        "            <th width=\"25%\">Harrison Peloquin</th>\n",
        "            <th width=\"25%\">Kase Johnson</th>\n",
        "            <th width=\"25%\">Robert Bingham</th>\n",
        "        </tr>\n",
        "    </thead>\n",
        "    <tbody>\n",
        "        <tr>\n",
        "            <td width=\"25%\">\n",
        "                <a href=\"https://www.linkedin.com/in/cade-kennedy-107ab7249/\">\n",
        "                    <img src=\"https://img.shields.io/badge/LinkedIn-0077B5?style=for-the-badge&logo=linkedin&logoColor=white\"/>\n",
        "                </a>\n",
        "            </td>\n",
        "             <td width=\"25%\">\n",
        "                <a href=\"https://www.linkedin.com/in/harrison-peloquin-2b080b24a/\">\n",
        "                    <img src=\"https://img.shields.io/badge/LinkedIn-0077B5?style=for-the-badge&logo=linkedin&logoColor=white\"/>\n",
        "                </a>\n",
        "            </td>\n",
        "            <td width=\"25%\">\n",
        "                <!-- UPDATE TO YOUR LINKEDIN -->\n",
        "                <a href=\"https://www.linkedin.com/in/kase-johnson-02a974205/\">\n",
        "                    <img src=\"https://img.shields.io/badge/LinkedIn-0077B5?style=for-the-badge&logo=linkedin&logoColor=white\"/>\n",
        "                </a>\n",
        "            </td>\n",
        "            <td width=\"25%\">\n",
        "                <a href=\"https://www.linkedin.com/in/robert-bingham/\">\n",
        "                    <img src=\"https://img.shields.io/badge/LinkedIn-0077B5?style=for-the-badge&logo=linkedin&logoColor=white\"/>\n",
        "                </a>\n",
        "            </td>\n",
        "        </tr>\n",
        "    </tbody>\n",
        "</table>\n",
        "\n",
        "## Works Cited\n",
        "Ashley Chow, Dave Orendorff, Michael Fu, Mohammed Khider, Sohier Dane, Vivek Gulati. (2023). Google Smartphone Decimeter Challenge 2023. Kaggle. https://kaggle.com/competitions/smartphone-decimeter-2023"
      ],
      "metadata": {
        "id": "wtKxof51N707"
      }
    },
    {
      "cell_type": "markdown",
      "source": [
        "Begin by installing important packages."
      ],
      "metadata": {
        "id": "6480kP3dQyIO"
      }
    },
    {
      "cell_type": "code",
      "source": [
        "%%capture\n",
        "%%scri\n",
        "# Please don't run all cells. It will take a while to run all the code we are\n",
        "# about to write here. May God have mercy on us.\n",
        "\n",
        "# Making sure that these packages are installed\n",
        "!pip install numpy\n",
        "!pip install pandas\n",
        "!pip install matplotlib\n",
        "!pip install seaborn\n",
        "!pip install plotly"
      ],
      "metadata": {
        "id": "aaP3oC0mSYQV"
      },
      "execution_count": null,
      "outputs": []
    },
    {
      "cell_type": "markdown",
      "source": [
        "Link gdrive to access database."
      ],
      "metadata": {
        "id": "bTA7nvENQysh"
      }
    },
    {
      "cell_type": "code",
      "source": [
        "from google.colab import drive\n",
        "\n",
        "drive.mount('/gdrive')\n",
        "!ln -s \"/gdrive/MyDrive/smartphone-decimeter-2023\" \"/content/\""
      ],
      "metadata": {
        "id": "N-UM5KZhrlI8"
      },
      "execution_count": null,
      "outputs": []
    },
    {
      "cell_type": "markdown",
      "source": [
        "Check the working directory to see if it the last step was successful."
      ],
      "metadata": {
        "id": "5oNM0iQGQzC1"
      }
    },
    {
      "cell_type": "code",
      "source": [
        "!pwd # check the working directory\n",
        "!ls"
      ],
      "metadata": {
        "id": "__XsS7ouKiW6"
      },
      "execution_count": null,
      "outputs": []
    },
    {
      "cell_type": "markdown",
      "source": [
        "Look at a sample of the data. Make sure the data is loaded."
      ],
      "metadata": {
        "id": "gSiyP-OHQzYy"
      }
    },
    {
      "cell_type": "code",
      "source": [
        "!head \"./smartphone-decimeter-2023/sdc2023/sample_submission.csv\""
      ],
      "metadata": {
        "id": "fhhSLRmRQLcC"
      },
      "execution_count": null,
      "outputs": []
    },
    {
      "cell_type": "markdown",
      "source": [],
      "metadata": {
        "id": "_guR6GevQz2f"
      }
    },
    {
      "cell_type": "code",
      "source": [
        "# PUT ALL IMPORTS HERE\n",
        "import glob\n",
        "import pandas as pd\n",
        "import numpy as np\n",
        "import seaborn as sns\n",
        "import matplotlib.pyplot as plt\n",
        "import plotly.express as px\n",
        "import pyproj"
      ],
      "metadata": {
        "id": "wg2vbfdyFui6"
      },
      "execution_count": 19,
      "outputs": []
    },
    {
      "cell_type": "markdown",
      "source": [
        "Here we use a regex pattern to search through all the directories and glob all the files with `device_gnss.csv`. For each file found, we read the csv and append the data to a list. Once we have gone through all the files, we can concatenate all the data leaving us with the entire dataset."
      ],
      "metadata": {
        "id": "p59KaZPDQ1Y_"
      }
    },
    {
      "cell_type": "code",
      "source": [
        "filenames = glob.glob('/content/smartphone-decimeter-2023/sdc2023/train/2023-*/*/device_gnss.csv')\n",
        "df_train = []\n",
        "\n",
        "for file in filenames:\n",
        "  df_train.append(pd.read_csv(file))\n",
        "\n",
        "df_train = pd.concat(df_train, ignore_index=True)\n",
        "df_train.head()"
      ],
      "metadata": {
        "id": "TZq4QwHkT4M5"
      },
      "execution_count": null,
      "outputs": []
    },
    {
      "cell_type": "markdown",
      "source": [],
      "metadata": {
        "id": "fJ6CLpm-Q2RD"
      }
    },
    {
      "cell_type": "code",
      "source": [
        "df_train.columns"
      ],
      "metadata": {
        "id": "p7YjJovvIioM"
      },
      "execution_count": null,
      "outputs": []
    },
    {
      "cell_type": "markdown",
      "source": [],
      "metadata": {
        "id": "BOq8gvu7Q24O"
      }
    },
    {
      "cell_type": "code",
      "source": [
        "df_train.describe()"
      ],
      "metadata": {
        "id": "YbOVJ5eOSfz4"
      },
      "execution_count": null,
      "outputs": []
    },
    {
      "cell_type": "markdown",
      "source": [],
      "metadata": {
        "id": "5LsiReP6Q3Kw"
      }
    },
    {
      "cell_type": "code",
      "source": [
        "df_train[['SvPositionXEcefMeters', 'SvPositionYEcefMeters', 'SvPositionZEcefMeters']].describe()"
      ],
      "metadata": {
        "id": "8oFGGNd3Josr"
      },
      "execution_count": null,
      "outputs": []
    },
    {
      "cell_type": "markdown",
      "source": [],
      "metadata": {
        "id": "Jmneal6_Q3sJ"
      }
    },
    {
      "cell_type": "code",
      "source": [
        "df_train.shape"
      ],
      "metadata": {
        "id": "F58kMdh1AlFz"
      },
      "execution_count": null,
      "outputs": []
    },
    {
      "cell_type": "markdown",
      "source": [],
      "metadata": {
        "id": "FhzB-ug4Q4Dp"
      }
    },
    {
      "cell_type": "code",
      "source": [
        "df_train.info()"
      ],
      "metadata": {
        "id": "DLjmm2dLESpq"
      },
      "execution_count": null,
      "outputs": []
    },
    {
      "cell_type": "markdown",
      "source": [],
      "metadata": {
        "id": "OX0GJZPvQ5LJ"
      }
    },
    {
      "cell_type": "code",
      "source": [
        "# check for how many nulls in dataset\n",
        "df_train.isnull().sum()"
      ],
      "metadata": {
        "id": "y__h7UIdEfZl"
      },
      "execution_count": null,
      "outputs": []
    },
    {
      "cell_type": "markdown",
      "source": [],
      "metadata": {
        "id": "TDD0ZIbQQ5mO"
      }
    },
    {
      "cell_type": "code",
      "source": [
        "# check how many zeroes in dataset\n",
        "df_train.isin([0]).sum()"
      ],
      "metadata": {
        "id": "y9pxtkamFBM1"
      },
      "execution_count": null,
      "outputs": []
    },
    {
      "cell_type": "markdown",
      "source": [],
      "metadata": {
        "id": "0kETSajMQ590"
      }
    },
    {
      "cell_type": "code",
      "source": [
        "df_train.plot.scatter(x='SvPositionXEcefMeters', y='SvPositionYEcefMeters')"
      ],
      "metadata": {
        "id": "u0agrT_mWQ1w"
      },
      "execution_count": null,
      "outputs": []
    },
    {
      "cell_type": "markdown",
      "source": [
        "The data is in a format called [ECEF](https://en.wikipedia.org/wiki/Earth-centered,_Earth-fixed_coordinate_system). We need to convert the data to latitude, longitude, and altitude.  "
      ],
      "metadata": {
        "id": "qNY_cXriQ6XL"
      }
    },
    {
      "cell_type": "code",
      "source": [
        "transformer = pyproj.Transformer.from_crs(\n",
        "    {\"proj\":'geocent', \"ellps\":'WGS84', \"datum\":'WGS84'},\n",
        "    {\"proj\":'latlong', \"ellps\":'WGS84', \"datum\":'WGS84'},\n",
        "    )\n",
        "\n",
        "lon1, lat1, alt1 = transformer.transform(xx=df_train['SvPositionXEcefMeters'],\n",
        "                                         yy=df_train['SvPositionYEcefMeters'],\n",
        "                                         zz=df_train['SvPositionZEcefMeters'],\n",
        "                                         radians=False)\n",
        "\n",
        "fig = px.density_mapbox(lat=lat1, lon=lon1, z=alt1 radius=5,\n",
        "                        center=dict(lat=0, lon=180), zoom=0,\n",
        "                        mapbox_style=\"open-street-map\")\n",
        "fig.show()"
      ],
      "metadata": {
        "id": "fzkKlVjhGhiz"
      },
      "execution_count": null,
      "outputs": []
    },
    {
      "cell_type": "markdown",
      "source": [],
      "metadata": {
        "id": "Kh2W6UHDQ6yW"
      }
    },
    {
      "cell_type": "code",
      "source": [
        "p7pro_sample_trail_gnss = pd.read_csv(\"/content/smartphone-decimeter-2023/sdc2023/train/2023-03-08-21-34-us-ca-mtv-u/pixel7pro/device_gnss.csv\")\n",
        "p7pro_sample_trail_gt = pd.read_csv(\"/content/smartphone-decimeter-2023/sdc2023/train/2023-03-08-21-34-us-ca-mtv-u/pixel7pro/ground_truth.csv\")\n",
        "\n",
        "p5_sample_trail_gnss = pd.read_csv(\"/content/smartphone-decimeter-2023/sdc2023/train/2023-03-08-21-34-us-ca-mtv-u/pixel5/device_gnss.csv\")\n",
        "p5_sample_trail_gt = pd.read_csv(\"/content/smartphone-decimeter-2023/sdc2023/train/2023-03-08-21-34-us-ca-mtv-u/pixel5/ground_truth.csv\")\n",
        "\n",
        "p6pro_sample_trail_gnss = pd.read_csv(\"/content/smartphone-decimeter-2023/sdc2023/train/2023-03-08-21-34-us-ca-mtv-u/pixel6pro/device_gnss.csv\")\n",
        "p6pro_sample_trail_gt = pd.read_csv(\"/content/smartphone-decimeter-2023/sdc2023/train/2023-03-08-21-34-us-ca-mtv-u/pixel6pro/ground_truth.csv\")"
      ],
      "metadata": {
        "id": "N9Du1h798ZDB"
      },
      "execution_count": null,
      "outputs": []
    },
    {
      "cell_type": "markdown",
      "source": [],
      "metadata": {
        "id": "pnpLC92yQ7TL"
      }
    },
    {
      "cell_type": "code",
      "source": [
        "from datetime import datetime\n",
        "\n",
        "def utc_to_human_readable(utcTime):\n",
        "    utc_datetime_str = datetime.fromtimestamp(utcTime / 1e3)\n",
        "    return datetime.strftime(utc_datetime_str, '%Y-%m-%d | %H:%M:%S')\n",
        "\n",
        "print(\"Duration of input data (s):\",\n",
        "      (p7pro_sample_trail_gnss[\"utcTimeMillis\"].max() - p7pro_sample_trail_gnss[\"utcTimeMillis\"].min()) * 1e-3)\n",
        "print(\"Starting from\", utc_to_human_readable(p7pro_sample_trail_gnss[\"utcTimeMillis\"].min()),\n",
        "      \"to\", utc_to_human_readable(p7pro_sample_trail_gnss[\"utcTimeMillis\"].max()))\n",
        "labels = p7pro_sample_trail_gt[[\"LatitudeDegrees\", \"LongitudeDegrees\", \"UnixTimeMillis\"]]\n",
        "print(\"Duration of target data (s):\",\n",
        "      (labels[\"UnixTimeMillis\"].max() - labels[\"UnixTimeMillis\"].min()) * 1e-3)\n",
        "print(\"Starting from\", utc_to_human_readable(labels[\"UnixTimeMillis\"].min()),\n",
        "      \"to\", utc_to_human_readable(labels[\"UnixTimeMillis\"].max()))\n",
        "\n",
        "print(\"Duration of input data (s):\",\n",
        "      (p5_sample_trail_gnss[\"utcTimeMillis\"].max() - p5_sample_trail_gnss[\"utcTimeMillis\"].min()) * 1e-3)\n",
        "print(\"Starting from\", utc_to_human_readable(p5_sample_trail_gnss[\"utcTimeMillis\"].min()),\n",
        "      \"to\", utc_to_human_readable(p5_sample_trail_gnss[\"utcTimeMillis\"].max()))\n",
        "labels = p5_sample_trail_gt[[\"LatitudeDegrees\", \"LongitudeDegrees\", \"UnixTimeMillis\"]]\n",
        "print(\"Duration of target data (s):\",\n",
        "      (labels[\"UnixTimeMillis\"].max() - labels[\"UnixTimeMillis\"].min()) * 1e-3)\n",
        "print(\"Starting from\", utc_to_human_readable(labels[\"UnixTimeMillis\"].min()),\n",
        "      \"to\", utc_to_human_readable(labels[\"UnixTimeMillis\"].max()))\n",
        "\n",
        "print(\"Duration of input data (s):\",\n",
        "      (p6pro_sample_trail_gnss[\"utcTimeMillis\"].max() - p6pro_sample_trail_gnss[\"utcTimeMillis\"].min()) * 1e-3)\n",
        "print(\"Starting from\", utc_to_human_readable(p6pro_sample_trail_gnss[\"utcTimeMillis\"].min()),\n",
        "      \"to\", utc_to_human_readable(p6pro_sample_trail_gnss[\"utcTimeMillis\"].max()))\n",
        "labels = p6pro_sample_trail_gt[[\"LatitudeDegrees\", \"LongitudeDegrees\", \"UnixTimeMillis\"]]\n",
        "print(\"Duration of target data (s):\",\n",
        "      (labels[\"UnixTimeMillis\"].max() - labels[\"UnixTimeMillis\"].min()) * 1e-3)\n",
        "print(\"Starting from\", utc_to_human_readable(labels[\"UnixTimeMillis\"].min()),\n",
        "      \"to\", utc_to_human_readable(labels[\"UnixTimeMillis\"].max()))\n"
      ],
      "metadata": {
        "id": "i543DdAx79fs"
      },
      "execution_count": null,
      "outputs": []
    },
    {
      "cell_type": "markdown",
      "source": [],
      "metadata": {
        "id": "gWvC36MkQ78p"
      }
    },
    {
      "cell_type": "code",
      "source": [
        "import seaborn as sns\n",
        "sns.pairplot(p7pro_sample_trail_gnss[[\"SvClockDriftMetersPerSecond\", \"AccumulatedDeltaRangeMeters\",\n",
        "                                  \"IonosphericDelayMeters\", \"TroposphericDelayMeters\"]])\n",
        "\n"
      ],
      "metadata": {
        "id": "mkmrA3OS8GKT"
      },
      "execution_count": null,
      "outputs": []
    },
    {
      "cell_type": "markdown",
      "source": [],
      "metadata": {
        "id": "rn8mDNzLQ8YD"
      }
    },
    {
      "cell_type": "code",
      "source": [
        "sns.pairplot(p5_sample_trail_gnss[[\"SvClockDriftMetersPerSecond\", \"AccumulatedDeltaRangeMeters\",\n",
        "                                  \"IonosphericDelayMeters\", \"TroposphericDelayMeters\"]])"
      ],
      "metadata": {
        "id": "-S9jk1bG_FRa"
      },
      "execution_count": null,
      "outputs": []
    },
    {
      "cell_type": "markdown",
      "source": [],
      "metadata": {
        "id": "yUrdGUCeQ8rK"
      }
    },
    {
      "cell_type": "code",
      "source": [
        "sns.pairplot(p6pro_sample_trail_gnss[[\"SvClockDriftMetersPerSecond\", \"AccumulatedDeltaRangeMeters\",\n",
        "                                  \"IonosphericDelayMeters\", \"TroposphericDelayMeters\"]])"
      ],
      "metadata": {
        "id": "rRGrp6cS_HLT"
      },
      "execution_count": null,
      "outputs": []
    },
    {
      "cell_type": "code",
      "source": [
        "filenames_gnss = glob.glob('/content/smartphone-decimeter-2023/sdc2023/train/2023-*/*/device_gnss.csv')\n",
        "filenames_gt = glob.glob('/content/smartphone-decimeter-2023/sdc2023/train/2023-*/*/ground_truth.csv')\n",
        "df_train_gnss = []\n",
        "df_train_gt = []\n",
        "\n",
        "for file in filenames_gnss:\n",
        "  df_train.append(pd.read_csv(file))\n",
        "\n",
        "for file in filenames_gt:\n",
        "  df_train.append(pd.read_csv(file))\n",
        "\n",
        "df_train_gnss = pd.concat(df_train_gnss, ignore_index=True)\n",
        "df_train_gt = pd.concat(df_train_gt, ignore_index=True)"
      ],
      "metadata": {
        "id": "WwbYlSVWTqEZ"
      },
      "execution_count": null,
      "outputs": []
    },
    {
      "cell_type": "code",
      "source": [],
      "metadata": {
        "id": "S5jhkrFpUDH4"
      },
      "execution_count": null,
      "outputs": []
    }
  ]
}